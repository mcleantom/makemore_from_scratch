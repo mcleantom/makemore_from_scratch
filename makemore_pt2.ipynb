{
  "nbformat": 4,
  "nbformat_minor": 0,
  "metadata": {
    "colab": {
      "provenance": [],
      "authorship_tag": "ABX9TyO8Z/FLeiWtQEgyqW28Rpza",
      "include_colab_link": true
    },
    "kernelspec": {
      "name": "python3",
      "display_name": "Python 3"
    },
    "language_info": {
      "name": "python"
    }
  },
  "cells": [
    {
      "cell_type": "markdown",
      "metadata": {
        "id": "view-in-github",
        "colab_type": "text"
      },
      "source": [
        "<a href=\"https://colab.research.google.com/github/mcleantom/makemore_from_scratch/blob/main/makemore_pt2.ipynb\" target=\"_parent\"><img src=\"https://colab.research.google.com/assets/colab-badge.svg\" alt=\"Open In Colab\"/></a>"
      ]
    },
    {
      "cell_type": "markdown",
      "source": [
        "https://www.youtube.com/watch?v=TCH_1BHY58I"
      ],
      "metadata": {
        "id": "yLCqUj0PsBER"
      }
    },
    {
      "cell_type": "code",
      "execution_count": 2,
      "metadata": {
        "id": "UMi0FXqWqqy2"
      },
      "outputs": [],
      "source": [
        "import torch\n",
        "import torch.nn.functional as F\n",
        "import matplotlib.pyplot as plt\n",
        "%matplotlib inline"
      ]
    },
    {
      "cell_type": "code",
      "source": [
        "words = open('names.txt', 'r').read().splitlines()\n",
        "words[:8], len(words)"
      ],
      "metadata": {
        "colab": {
          "base_uri": "https://localhost:8080/"
        },
        "id": "gi0eqVSprHM5",
        "outputId": "0e32c309-7042-423a-c568-04e9af6edb16"
      },
      "execution_count": 6,
      "outputs": [
        {
          "output_type": "execute_result",
          "data": {
            "text/plain": [
              "(['emma', 'olivia', 'ava', 'isabella', 'sophia', 'charlotte', 'mia', 'amelia'],\n",
              " 32033)"
            ]
          },
          "metadata": {},
          "execution_count": 6
        }
      ]
    },
    {
      "cell_type": "markdown",
      "source": [],
      "metadata": {
        "id": "GFR-Lz_zt8Sz"
      }
    },
    {
      "cell_type": "code",
      "source": [
        "chars = sorted(list(set(''.join(words))))\n",
        "stoi = {s: i+1 for i, s in enumerate(chars)}\n",
        "stoi['.'] = 0\n",
        "itos = {i: s for s, i in stoi.items()}\n",
        "vocab_size = len(itos)\n",
        "print(itos)"
      ],
      "metadata": {
        "colab": {
          "base_uri": "https://localhost:8080/"
        },
        "id": "l8JvlVM_rYBz",
        "outputId": "188f02e0-78f0-4a40-ee61-12eb3792b83c"
      },
      "execution_count": 7,
      "outputs": [
        {
          "output_type": "stream",
          "name": "stdout",
          "text": [
            "{1: 'a', 2: 'b', 3: 'c', 4: 'd', 5: 'e', 6: 'f', 7: 'g', 8: 'h', 9: 'i', 10: 'j', 11: 'k', 12: 'l', 13: 'm', 14: 'n', 15: 'o', 16: 'p', 17: 'q', 18: 'r', 19: 's', 20: 't', 21: 'u', 22: 'v', 23: 'w', 24: 'x', 25: 'y', 26: 'z', 0: '.'}\n"
          ]
        }
      ]
    },
    {
      "cell_type": "code",
      "source": [
        "# build the dataset\n",
        "\n",
        "block_size = 3\n",
        "X, Y = [], []\n",
        "for w in words[:5]:\n",
        "  context = [0] * block_size\n",
        "  for ch in w + '.':\n",
        "    ix = stoi[ch]\n",
        "    X.append(context)\n",
        "    Y.append(ix)\n",
        "    print(''.join(itos[i] for i in context), '---->', itos[ix])\n",
        "    context = context[1:] + [ix]\n",
        "\n",
        "X = torch.tensor(X)\n",
        "Y = torch.tensor(Y)"
      ],
      "metadata": {
        "colab": {
          "base_uri": "https://localhost:8080/"
        },
        "id": "mKMqDb3MrjsB",
        "outputId": "7bf71880-b8d4-4a97-d555-2de3704a58df"
      },
      "execution_count": 12,
      "outputs": [
        {
          "output_type": "stream",
          "name": "stdout",
          "text": [
            "... ----> e\n",
            "..e ----> m\n",
            ".em ----> m\n",
            "emm ----> a\n",
            "mma ----> .\n",
            "... ----> o\n",
            "..o ----> l\n",
            ".ol ----> i\n",
            "oli ----> v\n",
            "liv ----> i\n",
            "ivi ----> a\n",
            "via ----> .\n",
            "... ----> a\n",
            "..a ----> v\n",
            ".av ----> a\n",
            "ava ----> .\n",
            "... ----> i\n",
            "..i ----> s\n",
            ".is ----> a\n",
            "isa ----> b\n",
            "sab ----> e\n",
            "abe ----> l\n",
            "bel ----> l\n",
            "ell ----> a\n",
            "lla ----> .\n",
            "... ----> s\n",
            "..s ----> o\n",
            ".so ----> p\n",
            "sop ----> h\n",
            "oph ----> i\n",
            "phi ----> a\n",
            "hia ----> .\n"
          ]
        }
      ]
    },
    {
      "cell_type": "code",
      "source": [
        "X.shape, X.dtype, Y.shape, Y.dtype"
      ],
      "metadata": {
        "colab": {
          "base_uri": "https://localhost:8080/"
        },
        "id": "5N6k8wt4uh36",
        "outputId": "a36688fa-def8-41c2-fea7-4c76e7d0a07e"
      },
      "execution_count": 13,
      "outputs": [
        {
          "output_type": "execute_result",
          "data": {
            "text/plain": [
              "(torch.Size([32, 3]), torch.int64, torch.Size([32]), torch.int64)"
            ]
          },
          "metadata": {},
          "execution_count": 13
        }
      ]
    },
    {
      "cell_type": "code",
      "source": [
        "# Embedding table\n",
        "C = torch.rand((27, 2))"
      ],
      "metadata": {
        "id": "wXzDueiguoGL"
      },
      "execution_count": 14,
      "outputs": []
    },
    {
      "cell_type": "code",
      "source": [
        "C[5]"
      ],
      "metadata": {
        "colab": {
          "base_uri": "https://localhost:8080/"
        },
        "id": "NhkBCAMTu1CC",
        "outputId": "7c6f6f4b-5205-4afa-c0f0-8ecdac23ce5a"
      },
      "execution_count": 15,
      "outputs": [
        {
          "output_type": "execute_result",
          "data": {
            "text/plain": [
              "tensor([0.0693, 0.1086])"
            ]
          },
          "metadata": {},
          "execution_count": 15
        }
      ]
    },
    {
      "cell_type": "code",
      "source": [
        "F.one_hot(torch.tensor(5), num_classes=27).float() @ C"
      ],
      "metadata": {
        "colab": {
          "base_uri": "https://localhost:8080/"
        },
        "id": "zMwfvHLyu9X4",
        "outputId": "ec5bf684-d3f3-4e56-da20-3da26abd8d8d"
      },
      "execution_count": 19,
      "outputs": [
        {
          "output_type": "execute_result",
          "data": {
            "text/plain": [
              "tensor([0.0693, 0.1086])"
            ]
          },
          "metadata": {},
          "execution_count": 19
        }
      ]
    },
    {
      "cell_type": "code",
      "source": [
        "C[X].shape"
      ],
      "metadata": {
        "colab": {
          "base_uri": "https://localhost:8080/"
        },
        "id": "JoTMM8hUvjDK",
        "outputId": "d15292f6-e4ce-418f-df6b-8c9325541cbe"
      },
      "execution_count": 23,
      "outputs": [
        {
          "output_type": "execute_result",
          "data": {
            "text/plain": [
              "torch.Size([32, 3, 2])"
            ]
          },
          "metadata": {},
          "execution_count": 23
        }
      ]
    },
    {
      "cell_type": "code",
      "source": [
        "emb = C[X]"
      ],
      "metadata": {
        "id": "P7o_LA-OwDNb"
      },
      "execution_count": 24,
      "outputs": []
    },
    {
      "cell_type": "code",
      "source": [
        "w1 = torch.randn((6, 100))\n",
        "b1 = torch.randn(100)"
      ],
      "metadata": {
        "id": "zVeENeQ-wE99"
      },
      "execution_count": 25,
      "outputs": []
    },
    {
      "cell_type": "code",
      "source": [
        "emb @ w1 + b1"
      ],
      "metadata": {
        "colab": {
          "base_uri": "https://localhost:8080/",
          "height": 167
        },
        "id": "QXNEmi4IwNZe",
        "outputId": "0b8cfb8d-d3be-4cb4-a72d-d6c4cffeb581"
      },
      "execution_count": 26,
      "outputs": [
        {
          "output_type": "error",
          "ename": "RuntimeError",
          "evalue": "ignored",
          "traceback": [
            "\u001b[0;31m---------------------------------------------------------------------------\u001b[0m",
            "\u001b[0;31mRuntimeError\u001b[0m                              Traceback (most recent call last)",
            "\u001b[0;32m<ipython-input-26-1498f270eab1>\u001b[0m in \u001b[0;36m<module>\u001b[0;34m\u001b[0m\n\u001b[0;32m----> 1\u001b[0;31m \u001b[0memb\u001b[0m \u001b[0;34m@\u001b[0m \u001b[0mw1\u001b[0m \u001b[0;34m+\u001b[0m \u001b[0mb1\u001b[0m\u001b[0;34m\u001b[0m\u001b[0;34m\u001b[0m\u001b[0m\n\u001b[0m",
            "\u001b[0;31mRuntimeError\u001b[0m: mat1 and mat2 shapes cannot be multiplied (96x2 and 6x100)"
          ]
        }
      ]
    },
    {
      "cell_type": "code",
      "source": [
        "torch.cat([emb[:, 0, :], emb[:, 1, :], emb[:, 2, :]], 1)"
      ],
      "metadata": {
        "colab": {
          "base_uri": "https://localhost:8080/"
        },
        "id": "xhr9f5i3wYe2",
        "outputId": "f783fad7-fddc-4281-aeca-a436df97eeb9"
      },
      "execution_count": 30,
      "outputs": [
        {
          "output_type": "execute_result",
          "data": {
            "text/plain": [
              "tensor([[0.0935, 0.1767, 0.0935, 0.1767, 0.0935, 0.1767],\n",
              "        [0.0935, 0.1767, 0.0935, 0.1767, 0.0693, 0.1086],\n",
              "        [0.0935, 0.1767, 0.0693, 0.1086, 0.3464, 0.5487],\n",
              "        [0.0693, 0.1086, 0.3464, 0.5487, 0.3464, 0.5487],\n",
              "        [0.3464, 0.5487, 0.3464, 0.5487, 0.2156, 0.7405],\n",
              "        [0.0935, 0.1767, 0.0935, 0.1767, 0.0935, 0.1767],\n",
              "        [0.0935, 0.1767, 0.0935, 0.1767, 0.6572, 0.2030],\n",
              "        [0.0935, 0.1767, 0.6572, 0.2030, 0.5763, 0.6629],\n",
              "        [0.6572, 0.2030, 0.5763, 0.6629, 0.3498, 0.2776],\n",
              "        [0.5763, 0.6629, 0.3498, 0.2776, 0.2649, 0.3390],\n",
              "        [0.3498, 0.2776, 0.2649, 0.3390, 0.3498, 0.2776],\n",
              "        [0.2649, 0.3390, 0.3498, 0.2776, 0.2156, 0.7405],\n",
              "        [0.0935, 0.1767, 0.0935, 0.1767, 0.0935, 0.1767],\n",
              "        [0.0935, 0.1767, 0.0935, 0.1767, 0.2156, 0.7405],\n",
              "        [0.0935, 0.1767, 0.2156, 0.7405, 0.2649, 0.3390],\n",
              "        [0.2156, 0.7405, 0.2649, 0.3390, 0.2156, 0.7405],\n",
              "        [0.0935, 0.1767, 0.0935, 0.1767, 0.0935, 0.1767],\n",
              "        [0.0935, 0.1767, 0.0935, 0.1767, 0.3498, 0.2776],\n",
              "        [0.0935, 0.1767, 0.3498, 0.2776, 0.8607, 0.3373],\n",
              "        [0.3498, 0.2776, 0.8607, 0.3373, 0.2156, 0.7405],\n",
              "        [0.8607, 0.3373, 0.2156, 0.7405, 0.4368, 0.7845],\n",
              "        [0.2156, 0.7405, 0.4368, 0.7845, 0.0693, 0.1086],\n",
              "        [0.4368, 0.7845, 0.0693, 0.1086, 0.5763, 0.6629],\n",
              "        [0.0693, 0.1086, 0.5763, 0.6629, 0.5763, 0.6629],\n",
              "        [0.5763, 0.6629, 0.5763, 0.6629, 0.2156, 0.7405],\n",
              "        [0.0935, 0.1767, 0.0935, 0.1767, 0.0935, 0.1767],\n",
              "        [0.0935, 0.1767, 0.0935, 0.1767, 0.8607, 0.3373],\n",
              "        [0.0935, 0.1767, 0.8607, 0.3373, 0.6572, 0.2030],\n",
              "        [0.8607, 0.3373, 0.6572, 0.2030, 0.5062, 0.7606],\n",
              "        [0.6572, 0.2030, 0.5062, 0.7606, 0.1056, 0.9652],\n",
              "        [0.5062, 0.7606, 0.1056, 0.9652, 0.3498, 0.2776],\n",
              "        [0.1056, 0.9652, 0.3498, 0.2776, 0.2156, 0.7405]])"
            ]
          },
          "metadata": {},
          "execution_count": 30
        }
      ]
    },
    {
      "cell_type": "code",
      "source": [
        "torch.cat(torch.unbind(emb, 1), 1)"
      ],
      "metadata": {
        "colab": {
          "base_uri": "https://localhost:8080/"
        },
        "id": "U5Cxc9QTxAXL",
        "outputId": "31010306-a1f8-4805-da0d-bde69ee7b72d"
      },
      "execution_count": 33,
      "outputs": [
        {
          "output_type": "execute_result",
          "data": {
            "text/plain": [
              "tensor([[0.0935, 0.1767, 0.0935, 0.1767, 0.0935, 0.1767],\n",
              "        [0.0935, 0.1767, 0.0935, 0.1767, 0.0693, 0.1086],\n",
              "        [0.0935, 0.1767, 0.0693, 0.1086, 0.3464, 0.5487],\n",
              "        [0.0693, 0.1086, 0.3464, 0.5487, 0.3464, 0.5487],\n",
              "        [0.3464, 0.5487, 0.3464, 0.5487, 0.2156, 0.7405],\n",
              "        [0.0935, 0.1767, 0.0935, 0.1767, 0.0935, 0.1767],\n",
              "        [0.0935, 0.1767, 0.0935, 0.1767, 0.6572, 0.2030],\n",
              "        [0.0935, 0.1767, 0.6572, 0.2030, 0.5763, 0.6629],\n",
              "        [0.6572, 0.2030, 0.5763, 0.6629, 0.3498, 0.2776],\n",
              "        [0.5763, 0.6629, 0.3498, 0.2776, 0.2649, 0.3390],\n",
              "        [0.3498, 0.2776, 0.2649, 0.3390, 0.3498, 0.2776],\n",
              "        [0.2649, 0.3390, 0.3498, 0.2776, 0.2156, 0.7405],\n",
              "        [0.0935, 0.1767, 0.0935, 0.1767, 0.0935, 0.1767],\n",
              "        [0.0935, 0.1767, 0.0935, 0.1767, 0.2156, 0.7405],\n",
              "        [0.0935, 0.1767, 0.2156, 0.7405, 0.2649, 0.3390],\n",
              "        [0.2156, 0.7405, 0.2649, 0.3390, 0.2156, 0.7405],\n",
              "        [0.0935, 0.1767, 0.0935, 0.1767, 0.0935, 0.1767],\n",
              "        [0.0935, 0.1767, 0.0935, 0.1767, 0.3498, 0.2776],\n",
              "        [0.0935, 0.1767, 0.3498, 0.2776, 0.8607, 0.3373],\n",
              "        [0.3498, 0.2776, 0.8607, 0.3373, 0.2156, 0.7405],\n",
              "        [0.8607, 0.3373, 0.2156, 0.7405, 0.4368, 0.7845],\n",
              "        [0.2156, 0.7405, 0.4368, 0.7845, 0.0693, 0.1086],\n",
              "        [0.4368, 0.7845, 0.0693, 0.1086, 0.5763, 0.6629],\n",
              "        [0.0693, 0.1086, 0.5763, 0.6629, 0.5763, 0.6629],\n",
              "        [0.5763, 0.6629, 0.5763, 0.6629, 0.2156, 0.7405],\n",
              "        [0.0935, 0.1767, 0.0935, 0.1767, 0.0935, 0.1767],\n",
              "        [0.0935, 0.1767, 0.0935, 0.1767, 0.8607, 0.3373],\n",
              "        [0.0935, 0.1767, 0.8607, 0.3373, 0.6572, 0.2030],\n",
              "        [0.8607, 0.3373, 0.6572, 0.2030, 0.5062, 0.7606],\n",
              "        [0.6572, 0.2030, 0.5062, 0.7606, 0.1056, 0.9652],\n",
              "        [0.5062, 0.7606, 0.1056, 0.9652, 0.3498, 0.2776],\n",
              "        [0.1056, 0.9652, 0.3498, 0.2776, 0.2156, 0.7405]])"
            ]
          },
          "metadata": {},
          "execution_count": 33
        }
      ]
    },
    {
      "cell_type": "code",
      "source": [
        "emb.view(32, 6)"
      ],
      "metadata": {
        "colab": {
          "base_uri": "https://localhost:8080/"
        },
        "id": "ZaQQ9gdvxKcf",
        "outputId": "ec8817dc-38a0-4817-bdaf-b44015abab7c"
      },
      "execution_count": 35,
      "outputs": [
        {
          "output_type": "execute_result",
          "data": {
            "text/plain": [
              "tensor([[0.0935, 0.1767, 0.0935, 0.1767, 0.0935, 0.1767],\n",
              "        [0.0935, 0.1767, 0.0935, 0.1767, 0.0693, 0.1086],\n",
              "        [0.0935, 0.1767, 0.0693, 0.1086, 0.3464, 0.5487],\n",
              "        [0.0693, 0.1086, 0.3464, 0.5487, 0.3464, 0.5487],\n",
              "        [0.3464, 0.5487, 0.3464, 0.5487, 0.2156, 0.7405],\n",
              "        [0.0935, 0.1767, 0.0935, 0.1767, 0.0935, 0.1767],\n",
              "        [0.0935, 0.1767, 0.0935, 0.1767, 0.6572, 0.2030],\n",
              "        [0.0935, 0.1767, 0.6572, 0.2030, 0.5763, 0.6629],\n",
              "        [0.6572, 0.2030, 0.5763, 0.6629, 0.3498, 0.2776],\n",
              "        [0.5763, 0.6629, 0.3498, 0.2776, 0.2649, 0.3390],\n",
              "        [0.3498, 0.2776, 0.2649, 0.3390, 0.3498, 0.2776],\n",
              "        [0.2649, 0.3390, 0.3498, 0.2776, 0.2156, 0.7405],\n",
              "        [0.0935, 0.1767, 0.0935, 0.1767, 0.0935, 0.1767],\n",
              "        [0.0935, 0.1767, 0.0935, 0.1767, 0.2156, 0.7405],\n",
              "        [0.0935, 0.1767, 0.2156, 0.7405, 0.2649, 0.3390],\n",
              "        [0.2156, 0.7405, 0.2649, 0.3390, 0.2156, 0.7405],\n",
              "        [0.0935, 0.1767, 0.0935, 0.1767, 0.0935, 0.1767],\n",
              "        [0.0935, 0.1767, 0.0935, 0.1767, 0.3498, 0.2776],\n",
              "        [0.0935, 0.1767, 0.3498, 0.2776, 0.8607, 0.3373],\n",
              "        [0.3498, 0.2776, 0.8607, 0.3373, 0.2156, 0.7405],\n",
              "        [0.8607, 0.3373, 0.2156, 0.7405, 0.4368, 0.7845],\n",
              "        [0.2156, 0.7405, 0.4368, 0.7845, 0.0693, 0.1086],\n",
              "        [0.4368, 0.7845, 0.0693, 0.1086, 0.5763, 0.6629],\n",
              "        [0.0693, 0.1086, 0.5763, 0.6629, 0.5763, 0.6629],\n",
              "        [0.5763, 0.6629, 0.5763, 0.6629, 0.2156, 0.7405],\n",
              "        [0.0935, 0.1767, 0.0935, 0.1767, 0.0935, 0.1767],\n",
              "        [0.0935, 0.1767, 0.0935, 0.1767, 0.8607, 0.3373],\n",
              "        [0.0935, 0.1767, 0.8607, 0.3373, 0.6572, 0.2030],\n",
              "        [0.8607, 0.3373, 0.6572, 0.2030, 0.5062, 0.7606],\n",
              "        [0.6572, 0.2030, 0.5062, 0.7606, 0.1056, 0.9652],\n",
              "        [0.5062, 0.7606, 0.1056, 0.9652, 0.3498, 0.2776],\n",
              "        [0.1056, 0.9652, 0.3498, 0.2776, 0.2156, 0.7405]])"
            ]
          },
          "metadata": {},
          "execution_count": 35
        }
      ]
    },
    {
      "cell_type": "code",
      "source": [
        "h = emb.view(-1, 6) @ w1 + b1\n",
        "h"
      ],
      "metadata": {
        "colab": {
          "base_uri": "https://localhost:8080/"
        },
        "id": "VBfbLkBK3b6a",
        "outputId": "9c70a75f-e7e8-4406-9f59-16d0f73f63d1"
      },
      "execution_count": 41,
      "outputs": [
        {
          "output_type": "execute_result",
          "data": {
            "text/plain": [
              "tensor([[-0.3912,  0.2132, -0.4275,  ...,  0.7536,  0.0979,  0.7233],\n",
              "        [-0.4573,  0.2314, -0.4131,  ...,  0.7182,  0.2756,  0.7966],\n",
              "        [-0.2111,  0.1357, -0.5412,  ...,  0.7463, -0.9827,  0.3366],\n",
              "        ...,\n",
              "        [ 0.9148,  0.9990, -0.5562,  ...,  2.4709, -0.4448,  1.0975],\n",
              "        [ 0.2205,  0.7361, -1.3232,  ...,  1.8517,  0.6671,  4.0710],\n",
              "        [ 0.2720,  0.8424, -0.9796,  ...,  0.4826, -1.9150,  1.2135]])"
            ]
          },
          "metadata": {},
          "execution_count": 41
        }
      ]
    },
    {
      "cell_type": "code",
      "source": [
        "h = torch.tanh(h)\n",
        "h"
      ],
      "metadata": {
        "colab": {
          "base_uri": "https://localhost:8080/"
        },
        "id": "uE4-ehN53mv6",
        "outputId": "45309270-1d33-4882-d7b1-25bb5262cd44"
      },
      "execution_count": 42,
      "outputs": [
        {
          "output_type": "execute_result",
          "data": {
            "text/plain": [
              "tensor([[-0.3724,  0.2100, -0.4032,  ...,  0.6373,  0.0976,  0.6189],\n",
              "        [-0.4279,  0.2274, -0.3911,  ...,  0.6158,  0.2688,  0.6621],\n",
              "        [-0.2081,  0.1348, -0.4939,  ...,  0.6329, -0.7542,  0.3244],\n",
              "        ...,\n",
              "        [ 0.7234,  0.7612, -0.5051,  ...,  0.9858, -0.4176,  0.7996],\n",
              "        [ 0.2170,  0.6268, -0.8676,  ...,  0.9519,  0.5831,  0.9994],\n",
              "        [ 0.2655,  0.6871, -0.7529,  ...,  0.4483, -0.9575,  0.8377]])"
            ]
          },
          "metadata": {},
          "execution_count": 42
        }
      ]
    },
    {
      "cell_type": "code",
      "source": [
        "w2 = torch.randn((100, 27))\n",
        "b2 = torch.randn(27)"
      ],
      "metadata": {
        "id": "-zSAmehg32Eu"
      },
      "execution_count": 43,
      "outputs": []
    },
    {
      "cell_type": "code",
      "source": [
        "logits = h @ w2 + b2"
      ],
      "metadata": {
        "id": "boATJksQ4Hsk"
      },
      "execution_count": 44,
      "outputs": []
    },
    {
      "cell_type": "code",
      "source": [
        "counts = logits.exp()\n",
        "prob = counts / counts.sum(1, keepdims=True)"
      ],
      "metadata": {
        "id": "fGzwL29z4LAO"
      },
      "execution_count": 46,
      "outputs": []
    },
    {
      "cell_type": "code",
      "source": [
        "prob.shape, prob[0].sum()"
      ],
      "metadata": {
        "colab": {
          "base_uri": "https://localhost:8080/"
        },
        "id": "k5Kj5kfv4QIk",
        "outputId": "b65bc126-ec51-4967-82ca-a4a8f9750477"
      },
      "execution_count": 47,
      "outputs": [
        {
          "output_type": "execute_result",
          "data": {
            "text/plain": [
              "(torch.Size([32, 27]), tensor(1.))"
            ]
          },
          "metadata": {},
          "execution_count": 47
        }
      ]
    },
    {
      "cell_type": "code",
      "source": [
        "torch.arange(32)"
      ],
      "metadata": {
        "colab": {
          "base_uri": "https://localhost:8080/"
        },
        "id": "sEwZa1a-4Shi",
        "outputId": "c8999f1c-c925-4173-ebfe-f240bedb2342"
      },
      "execution_count": 48,
      "outputs": [
        {
          "output_type": "execute_result",
          "data": {
            "text/plain": [
              "tensor([ 0,  1,  2,  3,  4,  5,  6,  7,  8,  9, 10, 11, 12, 13, 14, 15, 16, 17,\n",
              "        18, 19, 20, 21, 22, 23, 24, 25, 26, 27, 28, 29, 30, 31])"
            ]
          },
          "metadata": {},
          "execution_count": 48
        }
      ]
    },
    {
      "cell_type": "code",
      "source": [
        "prob[torch.arange(32), Y].log().mean()"
      ],
      "metadata": {
        "colab": {
          "base_uri": "https://localhost:8080/"
        },
        "id": "ZupyNDSA4dqU",
        "outputId": "71958265-42e8-4171-f641-98a95430dc30"
      },
      "execution_count": 49,
      "outputs": [
        {
          "output_type": "execute_result",
          "data": {
            "text/plain": [
              "tensor([1.5620e-07, 7.9088e-07, 4.1950e-08, 3.1784e-03, 1.5896e-09, 1.8933e-05,\n",
              "        1.3401e-01, 9.8367e-09, 1.4849e-02, 2.7444e-08, 3.9567e-02, 4.2540e-09,\n",
              "        2.8476e-01, 2.0607e-06, 1.2773e-02, 2.7780e-12, 4.2191e-09, 1.3553e-08,\n",
              "        1.0551e-03, 1.3658e-07, 5.0963e-04, 4.8352e-01, 1.1056e-02, 4.0936e-04,\n",
              "        2.6360e-08, 1.0539e-08, 1.9410e-07, 5.5667e-07, 3.6840e-02, 1.2240e-07,\n",
              "        2.3136e-01, 1.7571e-13])"
            ]
          },
          "metadata": {},
          "execution_count": 49
        }
      ]
    },
    {
      "cell_type": "code",
      "source": [
        "loss = -prob[torch.arange(32), Y].log().mean()\n",
        "loss"
      ],
      "metadata": {
        "colab": {
          "base_uri": "https://localhost:8080/"
        },
        "id": "3b38zMbL4l83",
        "outputId": "f3b0679a-f992-4b67-d6ce-55ed97ee232a"
      },
      "execution_count": 51,
      "outputs": [
        {
          "output_type": "execute_result",
          "data": {
            "text/plain": [
              "tensor(12.1840)"
            ]
          },
          "metadata": {},
          "execution_count": 51
        }
      ]
    },
    {
      "cell_type": "code",
      "source": [
        "# Cleaned up :)"
      ],
      "metadata": {
        "id": "rK-SgbKq4zsq"
      },
      "execution_count": 52,
      "outputs": []
    },
    {
      "cell_type": "code",
      "source": [
        "g = torch.Generator().manual_seed(2147483647)\n",
        "C = torch.randn((27, 2), generator=g)\n",
        "W1 = torch.randn((6, 100), generator=g)\n",
        "b1 = torch.randn(100, generator=g)\n",
        "W2 = torch.randn((100, 27), generator=g)\n",
        "b2 = torch.randn(27, generator=g)\n",
        "parameters = [C, W1, b2, W2, b2]\n",
        "for p in parameters:\n",
        "  p.requires_grad = True"
      ],
      "metadata": {
        "id": "hhiq7RlG42hk"
      },
      "execution_count": 59,
      "outputs": []
    },
    {
      "cell_type": "code",
      "source": [
        "sum(p.nelement() for p in parameters) # The number of parameters to tune"
      ],
      "metadata": {
        "colab": {
          "base_uri": "https://localhost:8080/"
        },
        "id": "tzZ9oc6V5ETx",
        "outputId": "3bc4a8db-d29d-409e-ab9f-8220f8fa0c25"
      },
      "execution_count": 55,
      "outputs": [
        {
          "output_type": "execute_result",
          "data": {
            "text/plain": [
              "3408"
            ]
          },
          "metadata": {},
          "execution_count": 55
        }
      ]
    },
    {
      "cell_type": "code",
      "source": [
        "emb = C[X]\n",
        "h = torch.tanh(emb.view(-1, 6) @ W1 + b1)\n",
        "logits = h @ W2 + b2\n",
        "counts = logits.exp()\n",
        "prob = counts / counts.sum(1, keepdims=True)\n",
        "loss = -prob[torch.arange(32), Y].log().mean()\n",
        "loss"
      ],
      "metadata": {
        "colab": {
          "base_uri": "https://localhost:8080/"
        },
        "id": "_vlk-0n85h1Q",
        "outputId": "b66a2acc-6e34-44c3-f23c-caf6a4ead18c"
      },
      "execution_count": 56,
      "outputs": [
        {
          "output_type": "execute_result",
          "data": {
            "text/plain": [
              "tensor(17.7697)"
            ]
          },
          "metadata": {},
          "execution_count": 56
        }
      ]
    },
    {
      "cell_type": "code",
      "source": [
        "F.cross_entropy(logits, Y)"
      ],
      "metadata": {
        "colab": {
          "base_uri": "https://localhost:8080/"
        },
        "id": "EfoYoPYl53eu",
        "outputId": "420cc441-50db-4354-deda-86a6c0dbb9b2"
      },
      "execution_count": 57,
      "outputs": [
        {
          "output_type": "execute_result",
          "data": {
            "text/plain": [
              "tensor(17.7697)"
            ]
          },
          "metadata": {},
          "execution_count": 57
        }
      ]
    },
    {
      "cell_type": "code",
      "source": [
        "# Forward pass\n",
        "for _ in range(1000):\n",
        "  # forward pass\n",
        "  emb = C[X]\n",
        "  h = torch.tanh(emb.view(-1, 6) @ W1 + b1)\n",
        "  logits = h @ W2 + b2\n",
        "  loss = F.cross_entropy(logits, Y)\n",
        "\n",
        "  # backwards pass\n",
        "  for p in parameters:\n",
        "    p.grad = None\n",
        "  loss.backward()\n",
        "\n",
        "  # update\n",
        "  for p in parameters:\n",
        "    p.data += -0.1 * p.grad\n",
        "  \n",
        "print(loss.item())"
      ],
      "metadata": {
        "colab": {
          "base_uri": "https://localhost:8080/"
        },
        "id": "MyviWJxb59BP",
        "outputId": "7947c757-133e-4e26-ebb2-7a4039ab4f90"
      },
      "execution_count": 60,
      "outputs": [
        {
          "output_type": "stream",
          "name": "stdout",
          "text": [
            "0.25561758875846863\n"
          ]
        }
      ]
    },
    {
      "cell_type": "markdown",
      "source": [
        "Full example (all the words)"
      ],
      "metadata": {
        "id": "_ciSEtuD8Ovk"
      }
    },
    {
      "cell_type": "code",
      "source": [
        "# build the dataset\n",
        "\n",
        "block_size = 3\n",
        "X, Y = [], []\n",
        "for w in words:\n",
        "  context = [0] * block_size\n",
        "  for ch in w + '.':\n",
        "    ix = stoi[ch]\n",
        "    X.append(context)\n",
        "    Y.append(ix)\n",
        "    context = context[1:] + [ix]\n",
        "\n",
        "X = torch.tensor(X)\n",
        "Y = torch.tensor(Y)\n",
        "\n",
        "g = torch.Generator().manual_seed(2147483647)\n",
        "C = torch.randn((27, 2), generator=g)\n",
        "W1 = torch.randn((6, 100), generator=g)\n",
        "b1 = torch.randn(100, generator=g)\n",
        "W2 = torch.randn((100, 27), generator=g)\n",
        "b2 = torch.randn(27, generator=g)\n",
        "parameters = [C, W1, b2, W2, b2]\n",
        "for p in parameters:\n",
        "  p.requires_grad = True\n",
        "\n",
        "# Forward pass\n",
        "for i in range(10):\n",
        "  # forward pass\n",
        "  emb = C[X]\n",
        "  h = torch.tanh(emb.view(-1, 6) @ W1 + b1)\n",
        "  logits = h @ W2 + b2\n",
        "  loss = F.cross_entropy(logits, Y)\n",
        "\n",
        "  if i % 10:\n",
        "    print(loss.item())\n",
        "\n",
        "  # backwards pass\n",
        "  for p in parameters:\n",
        "    p.grad = None\n",
        "  loss.backward()\n",
        "\n",
        "  # update\n",
        "  for p in parameters:\n",
        "    p.data += -0.1 * p.grad\n",
        "  \n",
        "print(loss.item())"
      ],
      "metadata": {
        "colab": {
          "base_uri": "https://localhost:8080/"
        },
        "id": "bdle1G1L8L9Z",
        "outputId": "4ef6f937-618b-4423-b63a-b23f8a32a1aa"
      },
      "execution_count": 63,
      "outputs": [
        {
          "output_type": "stream",
          "name": "stdout",
          "text": [
            "17.327770233154297\n",
            "16.143203735351562\n",
            "15.288034439086914\n",
            "14.534099578857422\n",
            "13.848008155822754\n",
            "13.218352317810059\n",
            "12.643925666809082\n",
            "12.125813484191895\n",
            "11.667390823364258\n",
            "11.667390823364258\n"
          ]
        }
      ]
    },
    {
      "cell_type": "markdown",
      "source": [
        "Minibatch"
      ],
      "metadata": {
        "id": "1a24y0hI8tIP"
      }
    },
    {
      "cell_type": "code",
      "source": [
        "g = torch.Generator().manual_seed(2147483647)\n",
        "C = torch.randn((27, 2), generator=g)\n",
        "W1 = torch.randn((6, 100), generator=g)\n",
        "b1 = torch.randn(100, generator=g)\n",
        "W2 = torch.randn((100, 27), generator=g)\n",
        "b2 = torch.randn(27, generator=g)\n",
        "parameters = [C, W1, b2, W2, b2]\n",
        "for p in parameters:\n",
        "  p.requires_grad = True\n",
        "\n",
        "N = 1000\n",
        "lre = torch.linspace(-3, 0, N)\n",
        "lrs = 10**lre\n",
        "lri = []\n",
        "lossi = []\n",
        "\n",
        "# Forward pass\n",
        "for i in range(N):\n",
        "  #mini batch construct\n",
        "  ix = torch.randint(0, X.shape[0], (32,))\n",
        "\n",
        "  # forward pass\n",
        "  emb = C[X[ix]]\n",
        "  h = torch.tanh(emb.view(-1, 6) @ W1 + b1)\n",
        "  logits = h @ W2 + b2\n",
        "  loss = F.cross_entropy(logits, Y[ix])\n",
        "\n",
        "  # backwards pass\n",
        "  for p in parameters:\n",
        "    p.grad = None\n",
        "  loss.backward()\n",
        "\n",
        "  # update\n",
        "  lr = lrs[i]\n",
        "  for p in parameters:\n",
        "    p.data += -lr * p.grad\n",
        "  \n",
        "  lri.append(lre)\n",
        "  lossi.append(loss.item())\n",
        "  \n",
        "print(loss.item())"
      ],
      "metadata": {
        "colab": {
          "base_uri": "https://localhost:8080/"
        },
        "id": "-yKoRbun8vkF",
        "outputId": "15a89366-0b8f-4358-8b7b-d7b7a6728ed0"
      },
      "execution_count": 75,
      "outputs": [
        {
          "output_type": "stream",
          "name": "stdout",
          "text": [
            "7.323722839355469\n"
          ]
        }
      ]
    },
    {
      "cell_type": "code",
      "source": [
        "plt.plot(lre, lossi)  # 10^-1 = 0.1 is a good learning rate"
      ],
      "metadata": {
        "colab": {
          "base_uri": "https://localhost:8080/",
          "height": 284
        },
        "id": "jlygs1UF_CzI",
        "outputId": "acf912ad-abda-4b90-f38c-c228d1b32589"
      },
      "execution_count": 77,
      "outputs": [
        {
          "output_type": "execute_result",
          "data": {
            "text/plain": [
              "[<matplotlib.lines.Line2D at 0x7fa1ae765c70>]"
            ]
          },
          "metadata": {},
          "execution_count": 77
        },
        {
          "output_type": "display_data",
          "data": {
            "text/plain": [
              "<Figure size 432x288 with 1 Axes>"
            ],
            "image/png": "[encoded data removed]"
          },
          "metadata": {
            "needs_background": "light"
          }
        }
      ]
    },
    {
      "cell_type": "code",
      "source": [
        "emb = C[X]\n",
        "h = torch.tanh(emb.view(-1, 6) @ W1 + b1)\n",
        "logits = h @ W2 + b2\n",
        "loss = F.cross_entropy(logits, Y)\n",
        "loss.item()"
      ],
      "metadata": {
        "colab": {
          "base_uri": "https://localhost:8080/"
        },
        "id": "GSEeoBjb9iy_",
        "outputId": "c244d378-b360-458b-dca1-480998d9b445"
      },
      "execution_count": 69,
      "outputs": [
        {
          "output_type": "execute_result",
          "data": {
            "text/plain": [
              "2.632587194442749"
            ]
          },
          "metadata": {},
          "execution_count": 69
        }
      ]
    },
    {
      "cell_type": "code",
      "source": [
        "g = torch.Generator().manual_seed(2147483647)\n",
        "C = torch.randn((27, 2), generator=g)\n",
        "W1 = torch.randn((6, 100), generator=g)\n",
        "b1 = torch.randn(100, generator=g)\n",
        "W2 = torch.randn((100, 27), generator=g)\n",
        "b2 = torch.randn(27, generator=g)\n",
        "parameters = [C, W1, b2, W2, b2]\n",
        "for p in parameters:\n",
        "  p.requires_grad = True\n",
        "\n",
        "N = 10_000\n",
        "\n",
        "for i in range(N):\n",
        "  #mini batch construct\n",
        "  ix = torch.randint(0, X.shape[0], (32,))\n",
        "\n",
        "  # forward pass\n",
        "  emb = C[X[ix]]\n",
        "  h = torch.tanh(emb.view(-1, 6) @ W1 + b1)\n",
        "  logits = h @ W2 + b2\n",
        "  loss = F.cross_entropy(logits, Y[ix])\n",
        "\n",
        "  # backwards pass\n",
        "  for p in parameters:\n",
        "    p.grad = None\n",
        "  loss.backward()\n",
        "\n",
        "  # update\n",
        "  lr = 0.1\n",
        "  for p in parameters:\n",
        "    p.data += -lr * p.grad\n",
        "  \n",
        "print(loss.item())"
      ],
      "metadata": {
        "colab": {
          "base_uri": "https://localhost:8080/"
        },
        "id": "ilHm4vWfAFF7",
        "outputId": "020022e8-c19d-410f-cd25-0be9c657a3e0"
      },
      "execution_count": 78,
      "outputs": [
        {
          "output_type": "stream",
          "name": "stdout",
          "text": [
            "2.7407138347625732\n"
          ]
        }
      ]
    },
    {
      "cell_type": "code",
      "source": [
        "N = 10_000\n",
        "lr = 0.001\n",
        "\n",
        "for i in range(N):\n",
        "  #mini batch construct\n",
        "  ix = torch.randint(0, X.shape[0], (32,))\n",
        "\n",
        "  # forward pass\n",
        "  emb = C[X[ix]]\n",
        "  h = torch.tanh(emb.view(-1, 6) @ W1 + b1)\n",
        "  logits = h @ W2 + b2\n",
        "  loss = F.cross_entropy(logits, Y[ix])\n",
        "\n",
        "  # backwards pass\n",
        "  for p in parameters:\n",
        "    p.grad = None\n",
        "  loss.backward()\n",
        "\n",
        "  # update\n",
        "  for p in parameters:\n",
        "    p.data += -lr * p.grad\n",
        "  \n",
        "print(loss.item())"
      ],
      "metadata": {
        "colab": {
          "base_uri": "https://localhost:8080/"
        },
        "id": "zNCY8oHyAP13",
        "outputId": "f8645edd-ac01-495b-9b5f-490d73b37039"
      },
      "execution_count": 88,
      "outputs": [
        {
          "output_type": "stream",
          "name": "stdout",
          "text": [
            "2.157465934753418\n"
          ]
        }
      ]
    },
    {
      "cell_type": "code",
      "source": [
        "# Training split, dev/validation split, test split\n",
        "# 80%, 10%, 10%\n",
        "def build_dataset(words):\n",
        "  # build the dataset\n",
        "  block_size = 3\n",
        "  X, Y = [], []\n",
        "  for w in words:\n",
        "    context = [0] * block_size\n",
        "    for ch in w + '.':\n",
        "      ix = stoi[ch]\n",
        "      X.append(context)\n",
        "      Y.append(ix)\n",
        "      context = context[1:] + [ix]\n",
        "\n",
        "  X = torch.tensor(X)\n",
        "  Y = torch.tensor(Y)\n",
        "  return X, Y\n",
        "\n",
        "import random\n",
        "random.seed(42)\n",
        "random.shuffle(words)\n",
        "n1 = int(0.8*len(words))\n",
        "n2 = int(0.9*len(words))\n",
        "Xtr, Ytr = build_dataset(words[:n1])\n",
        "Xdev, Ydev = build_dataset(words[n1:n2])\n",
        "Xte, Yte = build_dataset(words[n2:])"
      ],
      "metadata": {
        "id": "PD4B8DvtAo8P"
      },
      "execution_count": 115,
      "outputs": []
    },
    {
      "cell_type": "code",
      "source": [
        "(Xtr.shape, Ytr.shape)"
      ],
      "metadata": {
        "colab": {
          "base_uri": "https://localhost:8080/"
        },
        "id": "kwrQvn6LEAVb",
        "outputId": "f7b504ae-f31c-4b26-c8b6-c1f2810c660e"
      },
      "execution_count": 116,
      "outputs": [
        {
          "output_type": "execute_result",
          "data": {
            "text/plain": [
              "(torch.Size([182441, 3]), torch.Size([182441]))"
            ]
          },
          "metadata": {},
          "execution_count": 116
        }
      ]
    },
    {
      "cell_type": "code",
      "source": [
        "# g = torch.Generator().manual_seed(2147483647)\n",
        "# C = torch.randn((27, 2), generator=g)\n",
        "# W1 = torch.randn((6, 300), generator=g)\n",
        "# b1 = torch.randn(300, generator=g)\n",
        "# W2 = torch.randn((300, 27), generator=g)\n",
        "# b2 = torch.randn(27, generator=g)\n",
        "# parameters = [C, W1, b2, W2, b2]\n",
        "# for p in parameters:\n",
        "#   p.requires_grad = True\n",
        "\n",
        "N = 20_000\n",
        "\n",
        "steps = list(range(N))\n",
        "lossi = []\n",
        "\n",
        "for i in range(N):\n",
        "  #mini batch construct\n",
        "  ix = torch.randint(0, Xtr.shape[0], (320,))\n",
        "\n",
        "  # forward pass\n",
        "  emb = C[Xtr[ix]]\n",
        "  h = torch.tanh(emb.view(-1, 6) @ W1 + b1)\n",
        "  logits = h @ W2 + b2\n",
        "  loss = F.cross_entropy(logits, Ytr[ix])\n",
        "\n",
        "  # backwards pass\n",
        "  for p in parameters:\n",
        "    p.grad = None\n",
        "  loss.backward()\n",
        "\n",
        "  # update\n",
        "  lr = 0.01\n",
        "  for p in parameters:\n",
        "    p.data += -lr * p.grad\n",
        "\n",
        "  lossi.append(loss.item())\n",
        "  \n",
        "print(loss)"
      ],
      "metadata": {
        "colab": {
          "base_uri": "https://localhost:8080/"
        },
        "id": "I0IOz4NHB-fw",
        "outputId": "feb6be4b-ce78-48e9-ac5c-cc1e5d662d1c"
      },
      "execution_count": 127,
      "outputs": [
        {
          "output_type": "stream",
          "name": "stdout",
          "text": [
            "tensor(2.4811, grad_fn=<NllLossBackward0>)\n"
          ]
        }
      ]
    },
    {
      "cell_type": "code",
      "source": [
        "plt.plot(steps, lossi)"
      ],
      "metadata": {
        "colab": {
          "base_uri": "https://localhost:8080/",
          "height": 282
        },
        "id": "NZkf0hZyEep-",
        "outputId": "65bf906e-e044-4585-b37a-44b1d792e5f2"
      },
      "execution_count": 125,
      "outputs": [
        {
          "output_type": "execute_result",
          "data": {
            "text/plain": [
              "[<matplotlib.lines.Line2D at 0x7fa1adc43bb0>]"
            ]
          },
          "metadata": {},
          "execution_count": 125
        },
        {
          "output_type": "display_data",
          "data": {
            "text/plain": [
              "<Figure size 432x288 with 1 Axes>"
            ],
            "image/png": "[encoded data removed]"
          },
          "metadata": {
            "needs_background": "light"
          }
        }
      ]
    },
    {
      "cell_type": "code",
      "source": [
        "emb = C[Xdev]\n",
        "h = torch.tanh(emb.view(-1, 6) @ W1 + b1)\n",
        "logits = h @ W2 + b2\n",
        "loss = F.cross_entropy(logits, Ydev)\n",
        "loss.item()"
      ],
      "metadata": {
        "colab": {
          "base_uri": "https://localhost:8080/"
        },
        "id": "N_nYVahmCu8q",
        "outputId": "d07804f4-31c6-43a7-d9e6-ed0e0fb5777d"
      },
      "execution_count": 130,
      "outputs": [
        {
          "output_type": "execute_result",
          "data": {
            "text/plain": [
              "2.405733108520508"
            ]
          },
          "metadata": {},
          "execution_count": 130
        }
      ]
    },
    {
      "cell_type": "code",
      "source": [
        "emb = C[Xtr]\n",
        "h = torch.tanh(emb.view(-1, 6) @ W1 + b1)\n",
        "logits = h @ W2 + b2\n",
        "loss = F.cross_entropy(logits, Ytr)\n",
        "loss.item()"
      ],
      "metadata": {
        "colab": {
          "base_uri": "https://localhost:8080/"
        },
        "id": "6Svg5pUMDf_z",
        "outputId": "b49ff67f-47b7-4bc0-87b6-8a9a2a86e607"
      },
      "execution_count": 129,
      "outputs": [
        {
          "output_type": "execute_result",
          "data": {
            "text/plain": [
              "2.409811019897461"
            ]
          },
          "metadata": {},
          "execution_count": 129
        }
      ]
    },
    {
      "cell_type": "code",
      "source": [
        "plt.figure(figsize=(8, 8))\n",
        "plt.scatter(C[:, 0].data, C[:, 1].data, s=200)\n",
        "for i in range(C.shape[0]):\n",
        "  plt.text(C[i,0].item(), C[i,1].item(), itos[i], ha=\"center\", va=\"center\", color=\"white\")\n",
        "plt.grid(\"minor\")"
      ],
      "metadata": {
        "colab": {
          "base_uri": "https://localhost:8080/",
          "height": 485
        },
        "id": "Uvx9z2akFkol",
        "outputId": "c0646557-dc47-4c52-ac55-92e1d29ac166"
      },
      "execution_count": 131,
      "outputs": [
        {
          "output_type": "display_data",
          "data": {
            "text/plain": [
              "<Figure size 576x576 with 1 Axes>"
            ],
            "image/png": "[encoded data removed]"
          },
          "metadata": {
            "needs_background": "light"
          }
        }
      ]
    },
    {
      "cell_type": "code",
      "source": [
        "# Make the dimension embeddings bigger"
      ],
      "metadata": {
        "id": "LjRb7SGdGT2B"
      },
      "execution_count": 132,
      "outputs": []
    },
    {
      "cell_type": "code",
      "source": [
        "g = torch.Generator().manual_seed(2147483647)\n",
        "C = torch.randn((27, 10), generator=g)\n",
        "W1 = torch.randn((30, 200), generator=g)\n",
        "b1 = torch.randn(200, generator=g)\n",
        "W2 = torch.randn((200, 27), generator=g)\n",
        "b2 = torch.randn(27, generator=g)\n",
        "parameters = [C, W1, b2, W2, b2]\n",
        "for p in parameters:\n",
        "  p.requires_grad = True\n",
        "\n",
        "stepi = [0]\n",
        "lossi = []"
      ],
      "metadata": {
        "id": "T-fYd8iCGWtV"
      },
      "execution_count": 149,
      "outputs": []
    },
    {
      "cell_type": "code",
      "source": [
        "N = 50_000\n",
        "\n",
        "for i in range(N):\n",
        "  #mini batch construct\n",
        "  ix = torch.randint(0, Xtr.shape[0], (32,))\n",
        "\n",
        "  # forward pass\n",
        "  emb = C[Xtr[ix]]\n",
        "  h = torch.tanh(emb.view(-1, 30) @ W1 + b1)\n",
        "  logits = h @ W2 + b2\n",
        "  loss = F.cross_entropy(logits, Ytr[ix])\n",
        "\n",
        "  # backwards pass\n",
        "  for p in parameters:\n",
        "    p.grad = None\n",
        "  loss.backward()\n",
        "\n",
        "  # update\n",
        "  lr = 0.01\n",
        "  for p in parameters:\n",
        "    p.data += -lr * p.grad\n",
        "\n",
        "  stepi.append(stepi[-1]+1)\n",
        "  lossi.append(loss.log10().item())\n",
        "  \n",
        "print(loss)"
      ],
      "metadata": {
        "colab": {
          "base_uri": "https://localhost:8080/"
        },
        "id": "sl5kljfRGrJR",
        "outputId": "d04d2a71-4968-4d75-dcc6-f04b456a330f"
      },
      "execution_count": 160,
      "outputs": [
        {
          "output_type": "stream",
          "name": "stdout",
          "text": [
            "tensor(2.1044, grad_fn=<NllLossBackward0>)\n"
          ]
        }
      ]
    },
    {
      "cell_type": "code",
      "source": [
        "plt.plot(stepi[1:], lossi)"
      ],
      "metadata": {
        "colab": {
          "base_uri": "https://localhost:8080/",
          "height": 282
        },
        "id": "1F2ra2GSG8GC",
        "outputId": "6af86213-c021-430e-b184-dcf9d55b86e4"
      },
      "execution_count": 161,
      "outputs": [
        {
          "output_type": "execute_result",
          "data": {
            "text/plain": [
              "[<matplotlib.lines.Line2D at 0x7fa1aaf77820>]"
            ]
          },
          "metadata": {},
          "execution_count": 161
        },
        {
          "output_type": "display_data",
          "data": {
            "text/plain": [
              "<Figure size 432x288 with 1 Axes>"
            ],
            "image/png": "[encoded data removed]"
          },
          "metadata": {
            "needs_background": "light"
          }
        }
      ]
    },
    {
      "cell_type": "code",
      "source": [
        "emb = C[Xdev]\n",
        "h = torch.tanh(emb.view(-1, 30) @ W1 + b1)\n",
        "logits = h @ W2 + b2\n",
        "loss = F.cross_entropy(logits, Ydev)\n",
        "loss.item()"
      ],
      "metadata": {
        "colab": {
          "base_uri": "https://localhost:8080/"
        },
        "id": "Nz3pVEdzHS4q",
        "outputId": "3d88f1f3-b914-4fba-f17d-2eab725812d3"
      },
      "execution_count": 162,
      "outputs": [
        {
          "output_type": "execute_result",
          "data": {
            "text/plain": [
              "2.229861259460449"
            ]
          },
          "metadata": {},
          "execution_count": 162
        }
      ]
    },
    {
      "cell_type": "code",
      "source": [
        "emb = C[Xtr]\n",
        "h = torch.tanh(emb.view(-1, 30) @ W1 + b1)\n",
        "logits = h @ W2 + b2\n",
        "loss = F.cross_entropy(logits, Ytr)\n",
        "loss.item()"
      ],
      "metadata": {
        "colab": {
          "base_uri": "https://localhost:8080/"
        },
        "id": "KTg78ErCHU92",
        "outputId": "4b3e4a60-8ec6-4968-85f7-8309bb2169a7"
      },
      "execution_count": 163,
      "outputs": [
        {
          "output_type": "execute_result",
          "data": {
            "text/plain": [
              "2.2008109092712402"
            ]
          },
          "metadata": {},
          "execution_count": 163
        }
      ]
    },
    {
      "cell_type": "code",
      "source": [
        "plt.figure(figsize=(8, 8))\n",
        "plt.scatter(C[:, 0].data, C[:, 1].data, s=200)\n",
        "for i in range(C.shape[0]):\n",
        "  plt.text(C[i,0].item(), C[i,1].item(), itos[i], ha=\"center\", va=\"center\", color=\"white\")\n",
        "plt.grid(\"minor\")"
      ],
      "metadata": {
        "colab": {
          "base_uri": "https://localhost:8080/",
          "height": 483
        },
        "id": "scRDqhONIBVx",
        "outputId": "d1223693-e9c5-45bb-f01b-f8278659056d"
      },
      "execution_count": 164,
      "outputs": [
        {
          "output_type": "display_data",
          "data": {
            "text/plain": [
              "<Figure size 576x576 with 1 Axes>"
            ],
            "image/png": "[encoded data removed]"
          },
          "metadata": {
            "needs_background": "light"
          }
        }
      ]
    },
    {
      "cell_type": "code",
      "source": [
        "# Sampling from the model\n",
        "g = torch.Generator().manual_seed(2147483647)\n",
        "\n",
        "for _ in range(20):\n",
        "  out = []\n",
        "  context = [0] * block_size\n",
        "  while True:\n",
        "    emb = C[torch.tensor([context])]\n",
        "    h = torch.tanh(emb.view(1, -1) @ W1 + b1)\n",
        "    logits = h @ W2 + b2\n",
        "    probs = F.softmax(logits, dim=1)\n",
        "    ix = torch.multinomial(probs, num_samples=1, generator=g).item()\n",
        "    context = context[1:] + [ix]\n",
        "    out.append(ix)\n",
        "    if ix == 0:\n",
        "      break\n",
        "  print(''.join(itos[i] for i in out))"
      ],
      "metadata": {
        "colab": {
          "base_uri": "https://localhost:8080/"
        },
        "id": "3GCbJNiDJCdw",
        "outputId": "48c33eaa-622e-4c16-f0c7-9f4fc7dfd76f"
      },
      "execution_count": 166,
      "outputs": [
        {
          "output_type": "stream",
          "name": "stdout",
          "text": [
            "ceri.\n",
            "kamaliusaila.\n",
            "kayde.\n",
            "lonishana.\n",
            "nella.\n",
            "kama.\n",
            "da.\n",
            "samiyaumitharigotti.\n",
            "moziella.\n",
            "kinz.\n",
            "ted.\n",
            "jenne.\n",
            "kamside.\n",
            "eniaviyri.\n",
            "folspihani.\n",
            "lavon.\n",
            "lus.\n",
            "kasdri.\n",
            "leenler.\n",
            "alaira.\n"
          ]
        }
      ]
    }
  ]
}