{
  "cells": [
    {
      "cell_type": "markdown",
      "metadata": {
        "id": "view-in-github",
        "colab_type": "text"
      },
      "source": [
        "<a href=\"https://colab.research.google.com/github/mcleantom/makemore_from_scratch/blob/main/makemore_pt3.ipynb\" target=\"_parent\"><img src=\"https://colab.research.google.com/assets/colab-badge.svg\" alt=\"Open In Colab\"/></a>"
      ]
    },
    {
      "cell_type": "markdown",
      "metadata": {
        "id": "YelrIcMLlYmx"
      },
      "source": [
        "https://www.youtube.com/watch?v=P6sfmUTpUmc&t=3s"
      ]
    },
    {
      "cell_type": "code",
      "execution_count": null,
      "metadata": {
        "id": "eDxmdfMilVsA"
      },
      "outputs": [],
      "source": [
        "import torch\n",
        "import torch.nn.functional as F\n",
        "import matplotlib.pyplot as plt\n",
        "%matplotlib inline"
      ]
    },
    {
      "cell_type": "code",
      "execution_count": null,
      "metadata": {
        "colab": {
          "base_uri": "https://localhost:8080/"
        },
        "id": "fOG-ZfSElho-",
        "outputId": "efe7d588-1d5e-43d0-9aab-4ae91344abeb"
      },
      "outputs": [
        {
          "name": "stdout",
          "output_type": "stream",
          "text": [
            "--2023-03-16 18:02:33--  https://raw.githubusercontent.com/karpathy/makemore/master/names.txt\n",
            "Resolving raw.githubusercontent.com (raw.githubusercontent.com)... 185.199.109.133, 185.199.111.133, 185.199.108.133, ...\n",
            "Connecting to raw.githubusercontent.com (raw.githubusercontent.com)|185.199.109.133|:443... connected.\n",
            "HTTP request sent, awaiting response... 200 OK\n",
            "Length: 228145 (223K) [text/plain]\n",
            "Saving to: ‘names.txt’\n",
            "\n",
            "names.txt           100%[===================>] 222.80K  --.-KB/s    in 0.03s   \n",
            "\n",
            "2023-03-16 18:02:33 (7.13 MB/s) - ‘names.txt’ saved [228145/228145]\n",
            "\n"
          ]
        }
      ],
      "source": [
        "!wget https://raw.githubusercontent.com/karpathy/makemore/master/names.txt"
      ]
    },
    {
      "cell_type": "code",
      "execution_count": null,
      "metadata": {
        "colab": {
          "base_uri": "https://localhost:8080/"
        },
        "id": "BAmH-V7rlnKi",
        "outputId": "0083377f-aaf0-4db5-b5c9-e269da03bb4b"
      },
      "outputs": [
        {
          "data": {
            "text/plain": [
              "(['emma', 'olivia', 'ava', 'isabella', 'sophia', 'charlotte', 'mia', 'amelia'],\n",
              " 32033)"
            ]
          },
          "execution_count": 4,
          "metadata": {},
          "output_type": "execute_result"
        }
      ],
      "source": [
        "words = open('names.txt', 'r').read().splitlines()\n",
        "words[:8], len(words)"
      ]
    },
    {
      "cell_type": "code",
      "execution_count": null,
      "metadata": {
        "colab": {
          "base_uri": "https://localhost:8080/"
        },
        "id": "SODCQosVloo8",
        "outputId": "b106f756-25ac-4279-d2db-62f29c7fe210"
      },
      "outputs": [
        {
          "data": {
            "text/plain": [
              "({1: 'a',\n",
              "  2: 'b',\n",
              "  3: 'c',\n",
              "  4: 'd',\n",
              "  5: 'e',\n",
              "  6: 'f',\n",
              "  7: 'g',\n",
              "  8: 'h',\n",
              "  9: 'i',\n",
              "  10: 'j',\n",
              "  11: 'k',\n",
              "  12: 'l',\n",
              "  13: 'm',\n",
              "  14: 'n',\n",
              "  15: 'o',\n",
              "  16: 'p',\n",
              "  17: 'q',\n",
              "  18: 'r',\n",
              "  19: 's',\n",
              "  20: 't',\n",
              "  21: 'u',\n",
              "  22: 'v',\n",
              "  23: 'w',\n",
              "  24: 'x',\n",
              "  25: 'y',\n",
              "  26: 'z',\n",
              "  0: '.'},\n",
              " 27)"
            ]
          },
          "execution_count": 9,
          "metadata": {},
          "output_type": "execute_result"
        }
      ],
      "source": [
        "chars = sorted(list(set(''.join(words))))\n",
        "stoi = {s: i+1 for i, s in enumerate(chars)}\n",
        "stoi['.'] = 0\n",
        "itos = {i: s for s, i in stoi.items()}\n",
        "vocab_size = len(itos)\n",
        "itos, vocab_size"
      ]
    },
    {
      "cell_type": "code",
      "execution_count": null,
      "metadata": {
        "colab": {
          "base_uri": "https://localhost:8080/"
        },
        "id": "R_WE-R4Tl8j9",
        "outputId": "806a51c5-0cc2-44c0-9560-b6adc37a2709"
      },
      "outputs": [
        {
          "name": "stdout",
          "output_type": "stream",
          "text": [
            "torch.Size([182424, 3]) torch.Size([182424])\n",
            "torch.Size([22836, 3]) torch.Size([22836])\n",
            "torch.Size([22886, 3]) torch.Size([22886])\n"
          ]
        }
      ],
      "source": [
        "block_size = 3\n",
        "\n",
        "def build_dataset(words):\n",
        "  X, Y = [], []\n",
        "\n",
        "  for w in words:\n",
        "    context = [0] * block_size\n",
        "    for ch in w + \".\":\n",
        "      ix = stoi[ch]\n",
        "      X.append(context)\n",
        "      Y.append(ix)\n",
        "      context = context[1:] + [ix]\n",
        "    \n",
        "  X = torch.tensor(X)\n",
        "  Y = torch.tensor(Y)\n",
        "  print(X.shape, Y.shape)\n",
        "  return X, Y\n",
        "\n",
        "import random\n",
        "random.seed(42)\n",
        "random.shuffle(words)\n",
        "n1 = int(0.8 * len(words))\n",
        "n2 = int(0.9 * len(words))\n",
        "\n",
        "Xtr, Ytr = build_dataset(words[:n1])\n",
        "Xdev, Ydev = build_dataset(words[n1:n2])\n",
        "Xte, Yte = build_dataset(words[n2:])"
      ]
    },
    {
      "cell_type": "code",
      "execution_count": null,
      "metadata": {
        "colab": {
          "base_uri": "https://localhost:8080/"
        },
        "id": "VbIHm3qLmlgE",
        "outputId": "dd224ad9-5f5c-4417-9d3c-36e319dc03ba"
      },
      "outputs": [
        {
          "name": "stdout",
          "output_type": "stream",
          "text": [
            "11724\n"
          ]
        }
      ],
      "source": [
        "n_embd = 10\n",
        "n_hidden = 200\n",
        "\n",
        "g = torch.Generator().manual_seed(2147483647)\n",
        "C = torch.randn((vocab_size, n_embd),             generator=g)\n",
        "W1 = torch.randn((n_embd * block_size, n_hidden), generator=g)\n",
        "b1 = torch.randn((n_hidden),                      generator=g)\n",
        "# 0.01 and 0.1 make the logits close to zero, giving an initial uniform probability\n",
        "# to generate any character\n",
        "W2 = torch.randn((n_hidden, vocab_size),          generator=g) * 0.01\n",
        "b2 = torch.randn(vocab_size,                      generator=g) * 0 \n",
        "\n",
        "parameters = [C, W1, b2, W2, b2]\n",
        "print(sum(p.nelement() for p in parameters))\n",
        "for p in parameters: \n",
        "  p.requires_grad = True"
      ]
    },
    {
      "cell_type": "code",
      "execution_count": null,
      "metadata": {
        "colab": {
          "base_uri": "https://localhost:8080/"
        },
        "id": "crgkFFydmmp_",
        "outputId": "8958aab7-6b64-4914-e28f-e46fb1f5f100"
      },
      "outputs": [
        {
          "name": "stdout",
          "output_type": "stream",
          "text": [
            "0.0%: 3.3000\n",
            "5.0%: 2.3114\n",
            "10.0%: 1.8531\n",
            "15.0%: 2.3244\n",
            "20.0%: 2.2022\n",
            "25.0%: 2.0854\n",
            "30.0%: 1.9810\n",
            "35.0%: 2.2143\n",
            "40.0%: 2.1122\n",
            "45.0%: 2.0936\n",
            "50.0%: 2.2189\n",
            "55.00000000000001%: 1.9319\n",
            "60.0%: 1.9709\n",
            "65.0%: 2.2757\n",
            "70.0%: 1.8603\n",
            "75.0%: 1.8188\n",
            "80.0%: 1.8943\n",
            "85.0%: 2.2684\n",
            "90.0%: 1.8204\n",
            "95.0%: 1.9199\n"
          ]
        }
      ],
      "source": [
        "max_steps = 200_000\n",
        "batch_size = 32\n",
        "lossi = []\n",
        "\n",
        "for i in range(max_steps):\n",
        "  ix = torch.randint(0, Xtr.shape[0], (batch_size,), generator=g)\n",
        "  Xb, Yb = Xtr[ix], Ytr[ix]\n",
        "\n",
        "  # forward pass\n",
        "  emb = C[Xb] # Embedd characters into vectors\n",
        "  embcat = emb.view(emb.shape[0], -1) # Concatenate vectors\n",
        "  hpreact = embcat @ W1 + b1 # hidden layer pre-activation\n",
        "  h = torch.tanh(hpreact)\n",
        "  logits = h @ W2 + b2\n",
        "  loss = F.cross_entropy(logits, Yb)\n",
        "\n",
        "  # backwards pass\n",
        "  for p in parameters:\n",
        "    p.grad = None\n",
        "  loss.backward()\n",
        "\n",
        "  # update\n",
        "  lr = 0.1 if i < 100_000 else 0.01\n",
        "  for p in parameters:\n",
        "    p.data += -lr * p.grad\n",
        "  \n",
        "  # track stats\n",
        "  if i % 10_000 == 0:\n",
        "    print(f\"{(i/max_steps)*100}%: {loss.item():.4f}\")\n",
        "  lossi.append(loss.log10().item())\n",
        "\n"
      ]
    },
    {
      "cell_type": "code",
      "execution_count": null,
      "metadata": {
        "colab": {
          "base_uri": "https://localhost:8080/",
          "height": 282
        },
        "id": "PZ5Sw-mgpQj5",
        "outputId": "3614ac27-b991-457d-806f-77856d7d6faf"
      },
      "outputs": [
        {
          "data": {
            "text/plain": [
              "[<matplotlib.lines.Line2D at 0x7fc09764b580>]"
            ]
          },
          "execution_count": 25,
          "metadata": {},
          "output_type": "execute_result"
        },
        {
          "data": {
            "image/png": "[encoded data removed]",
            "text/plain": [
              "<Figure size 432x288 with 1 Axes>"
            ]
          },
          "metadata": {},
          "output_type": "display_data"
        }
      ],
      "source": [
        "plt.plot(lossi)"
      ]
    },
    {
      "cell_type": "code",
      "execution_count": null,
      "metadata": {
        "colab": {
          "background_save": true
        },
        "id": "fHtLMliPte14",
        "outputId": "e85d12e1-6240-43b1-c144-bf6a77ac577a"
      },
      "outputs": [
        {
          "data": {
            "text/plain": [
              "(array([2218.,  118.,   84.,   75.,   48.,   50.,   47.,   42.,   47.,\n",
              "          21.,   33.,   28.,   25.,   38.,   22.,   11.,   20.,   20.,\n",
              "          26.,   22.,   13.,   11.,   18.,   16.,   10.,   11.,   12.,\n",
              "          14.,   26.,   12.,   27.,   23.,   31.,   16.,   22.,   23.,\n",
              "          21.,   30.,   29.,   32.,   38.,   35.,   42.,   55.,   58.,\n",
              "          49.,   81.,   99.,  143., 2408.]),\n",
              " array([-1.  , -0.96, -0.92, -0.88, -0.84, -0.8 , -0.76, -0.72, -0.68,\n",
              "        -0.64, -0.6 , -0.56, -0.52, -0.48, -0.44, -0.4 , -0.36, -0.32,\n",
              "        -0.28, -0.24, -0.2 , -0.16, -0.12, -0.08, -0.04,  0.  ,  0.04,\n",
              "         0.08,  0.12,  0.16,  0.2 ,  0.24,  0.28,  0.32,  0.36,  0.4 ,\n",
              "         0.44,  0.48,  0.52,  0.56,  0.6 ,  0.64,  0.68,  0.72,  0.76,\n",
              "         0.8 ,  0.84,  0.88,  0.92,  0.96,  1.  ]),\n",
              " <BarContainer object of 50 artists>)"
            ]
          },
          "execution_count": 27,
          "metadata": {},
          "output_type": "execute_result"
        },
        {
          "data": {
            "image/png": "[encoded data removed]",
            "text/plain": [
              "<Figure size 432x288 with 1 Axes>"
            ]
          },
          "metadata": {},
          "output_type": "display_data"
        }
      ],
      "source": [
        "plt.hist(y.)"
      ]
    },
    {
      "cell_type": "code",
      "execution_count": null,
      "metadata": {
        "colab": {
          "base_uri": "https://localhost:8080/"
        },
        "id": "n0IF1coDp7ER",
        "outputId": "00df936e-6f07-41ce-ea28-c4e7d485b40a"
      },
      "outputs": [
        {
          "name": "stdout",
          "output_type": "stream",
          "text": [
            "train 2.064998149871826\n",
            "val 2.142862319946289\n"
          ]
        }
      ],
      "source": [
        "@torch.no_grad()\n",
        "def split_loss(split):\n",
        "  x, y = {\n",
        "      'train': (Xtr, Ytr),\n",
        "      'val': (Xdev, Ydev),\n",
        "      'test': (Xte, Yte)\n",
        "  }[split]\n",
        "  emb = C[x]\n",
        "  embcat = emb.view(emb.shape[0], -1)\n",
        "  h = torch.tanh(embcat @ W1 + b1)\n",
        "  logits = h @ W2 + b2\n",
        "  loss = F.cross_entropy(logits, y)\n",
        "  print(split, loss.item())\n",
        "\n",
        "split_loss('train')\n",
        "split_loss('val')"
      ]
    },
    {
      "cell_type": "code",
      "execution_count": null,
      "metadata": {
        "colab": {
          "base_uri": "https://localhost:8080/"
        },
        "id": "wbZKWEdMqcVf",
        "outputId": "33095e59-5105-41bd-edb6-d0e607a51d6b"
      },
      "outputs": [
        {
          "name": "stdout",
          "output_type": "stream",
          "text": [
            "carlah.\n",
            "amelle.\n",
            "khi.\n",
            "miliathtyn.\n",
            "kandencerronelle.\n",
            "livit.\n",
            "kaeli.\n",
            "nellara.\n",
            "chaiivin.\n",
            "leigh.\n",
            "ham.\n",
            "pori.\n",
            "quinthanline.\n",
            "liveni.\n",
            "wavero.\n",
            "dearynix.\n",
            "kael.\n",
            "dus.\n",
            "brex.\n",
            "edi.\n"
          ]
        }
      ],
      "source": [
        "g = torch.Generator().manual_seed(2147483647+10)\n",
        "\n",
        "for _ in range(20):\n",
        "  out = []\n",
        "  context = [0] * block_size\n",
        "  while True:\n",
        "    emb = C[torch.tensor([context])]\n",
        "    h = torch.tanh(emb.view(1, -1) @ W1 + b1)\n",
        "    logits = h @ W2 + b2\n",
        "    probs = F.softmax(logits, dim=1)\n",
        "    ix = torch.multinomial(probs, num_samples=1, generator=g).item()\n",
        "    context = context[1:] + [ix]\n",
        "    out.append(ix)\n",
        "    if ix == 0:\n",
        "      break\n",
        "  \n",
        "  print(''.join(itos[i] for i in out))"
      ]
    }
  ],
  "metadata": {
    "colab": {
      "provenance": [],
      "authorship_tag": "ABX9TyPgBzTz/VGEKCtRBP7ELo2+",
      "include_colab_link": true
    },
    "kernelspec": {
      "display_name": "Python 3",
      "name": "python3"
    },
    "language_info": {
      "name": "python"
    }
  },
  "nbformat": 4,
  "nbformat_minor": 0
}